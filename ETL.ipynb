{
 "cells": [
  {
   "cell_type": "code",
   "execution_count": 114,
   "metadata": {},
   "outputs": [],
   "source": [
    "import pandas as pd\n",
    "import numpy as np"
   ]
  },
  {
   "attachments": {},
   "cell_type": "markdown",
   "metadata": {},
   "source": [
    "Cargo los dataset"
   ]
  },
  {
   "cell_type": "code",
   "execution_count": 115,
   "metadata": {},
   "outputs": [],
   "source": [
    "coursera_info = pd.read_csv(\"Data\\Coursera_courses.csv\")\n",
    "coursera_reviews = pd.read_csv(\"Data\\Coursera_reviews.csv\")\n",
    "edx_info = pd.read_csv(\"Data\\edx_courses.csv\")\n",
    "udemy_info = pd.read_csv(\"Data/udemy_courses.csv\")"
   ]
  },
  {
   "cell_type": "code",
   "execution_count": 116,
   "metadata": {},
   "outputs": [
    {
     "data": {
      "text/plain": [
       "(623, 4)"
      ]
     },
     "execution_count": 116,
     "metadata": {},
     "output_type": "execute_result"
    }
   ],
   "source": [
    "coursera_info.shape"
   ]
  },
  {
   "cell_type": "code",
   "execution_count": 117,
   "metadata": {},
   "outputs": [
    {
     "data": {
      "text/plain": [
       "(975, 16)"
      ]
     },
     "execution_count": 117,
     "metadata": {},
     "output_type": "execute_result"
    }
   ],
   "source": [
    "edx_info.shape"
   ]
  },
  {
   "cell_type": "code",
   "execution_count": 118,
   "metadata": {},
   "outputs": [
    {
     "data": {
      "text/plain": [
       "(3678, 12)"
      ]
     },
     "execution_count": 118,
     "metadata": {},
     "output_type": "execute_result"
    }
   ],
   "source": [
    "udemy_info.shape"
   ]
  },
  {
   "attachments": {},
   "cell_type": "markdown",
   "metadata": {},
   "source": [
    "Reviso todas las columnas de cada dataset "
   ]
  },
  {
   "cell_type": "code",
   "execution_count": 119,
   "metadata": {},
   "outputs": [
    {
     "name": "stdout",
     "output_type": "stream",
     "text": [
      "columnas coursera Index(['name', 'institution', 'course_url', 'course_id'], dtype='object')\n",
      "columnas coursera reviewsIndex(['reviews', 'reviewers', 'date_reviews', 'rating', 'course_id'], dtype='object')\n",
      "columnas edx Index(['title', 'summary', 'n_enrolled', 'course_type', 'institution',\n",
      "       'instructors', 'Level', 'subject', 'language', 'subtitles',\n",
      "       'course_effort', 'course_length', 'price', 'course_description',\n",
      "       'course_syllabus', 'course_url'],\n",
      "      dtype='object')\n",
      "columnas udemy Index(['course_id', 'course_title', 'url', 'is_paid', 'price',\n",
      "       'num_subscribers', 'num_reviews', 'num_lectures', 'level',\n",
      "       'content_duration', 'published_timestamp', 'subject'],\n",
      "      dtype='object')\n"
     ]
    }
   ],
   "source": [
    "print(f\"columnas coursera {coursera_info.columns}\\n\"\n",
    "      f\"columnas coursera reviews{coursera_reviews.columns}\\n\"\n",
    "      f\"columnas edx {edx_info.columns}\\n\"\n",
    "      f\"columnas udemy {udemy_info.columns}\")"
   ]
  },
  {
   "attachments": {},
   "cell_type": "markdown",
   "metadata": {},
   "source": [
    "## Cargo los dataset extra para completar la información"
   ]
  },
  {
   "cell_type": "code",
   "execution_count": 120,
   "metadata": {},
   "outputs": [],
   "source": [
    "coursera_completo = pd.read_csv(\"Data\\webautomation_coursera.csv\")\n",
    "coursera_price_level = pd.read_csv(\"Data\\coursera_price_level.csv\")\n",
    "coursera_student = pd.read_csv(\"Data\\Coursera_students.csv\")\n",
    "udemy_extra = pd.read_csv(\"Data/udemy_extra.csv\")"
   ]
  },
  {
   "attachments": {},
   "cell_type": "markdown",
   "metadata": {},
   "source": [
    "## Genero las transformaciones de las diferentes columnas"
   ]
  },
  {
   "attachments": {},
   "cell_type": "markdown",
   "metadata": {},
   "source": [
    "### Coursera"
   ]
  },
  {
   "cell_type": "code",
   "execution_count": 121,
   "metadata": {},
   "outputs": [
    {
     "data": {
      "text/plain": [
       "Index(['name', 'institution', 'course_url', 'course_id'], dtype='object')"
      ]
     },
     "execution_count": 121,
     "metadata": {},
     "output_type": "execute_result"
    }
   ],
   "source": [
    "coursera_info.columns"
   ]
  },
  {
   "cell_type": "code",
   "execution_count": 122,
   "metadata": {},
   "outputs": [],
   "source": [
    "# Me quedo con las columnas que voy a usar\n",
    "coursera = coursera_info[[\"course_id\", \"name\"]]"
   ]
  },
  {
   "cell_type": "code",
   "execution_count": 123,
   "metadata": {},
   "outputs": [
    {
     "name": "stderr",
     "output_type": "stream",
     "text": [
      "C:\\Users\\Clarita\\AppData\\Local\\Temp\\ipykernel_10952\\2059813281.py:1: SettingWithCopyWarning: \n",
      "A value is trying to be set on a copy of a slice from a DataFrame\n",
      "\n",
      "See the caveats in the documentation: https://pandas.pydata.org/pandas-docs/stable/user_guide/indexing.html#returning-a-view-versus-a-copy\n",
      "  coursera.drop_duplicates(inplace=True)\n"
     ]
    }
   ],
   "source": [
    "coursera.drop_duplicates(inplace=True)\n",
    "coursera_reviews.drop_duplicates(inplace= True)"
   ]
  },
  {
   "cell_type": "code",
   "execution_count": 124,
   "metadata": {},
   "outputs": [],
   "source": [
    "#Columna nueva generando un promedio de los rating del dataset reviews\n",
    "ratings_coursera = round(coursera_reviews.groupby(\"course_id\")['rating'].mean(),1)"
   ]
  },
  {
   "cell_type": "code",
   "execution_count": 125,
   "metadata": {},
   "outputs": [],
   "source": [
    "# Hago un merge con los promedios de ratings que cree\n",
    "coursera = pd.merge(coursera, ratings_coursera, on= \"course_id\", how= \"left\")"
   ]
  },
  {
   "cell_type": "code",
   "execution_count": 126,
   "metadata": {},
   "outputs": [
    {
     "data": {
      "text/plain": [
       "course_id\n",
       "aboriginal-education                                        4.6\n",
       "access-control-sscp                                         4.5\n",
       "accounting-analytics                                        4.4\n",
       "accounting-data-analytics-python                            3.5\n",
       "actualizacion-manejo-diabetes-tipo-2                        4.8\n",
       "                                                           ... \n",
       "womens-health-human-rights                                  4.9\n",
       "write-a-feature-length-screenplay-for-film-or-television    4.6\n",
       "write-your-first-novel                                      3.8\n",
       "writing-editing-words                                       4.7\n",
       "writing-for-business                                        4.8\n",
       "Name: rating, Length: 604, dtype: float64"
      ]
     },
     "execution_count": 126,
     "metadata": {},
     "output_type": "execute_result"
    }
   ],
   "source": [
    "ratings_coursera"
   ]
  },
  {
   "attachments": {},
   "cell_type": "markdown",
   "metadata": {},
   "source": [
    "Generar un nuevo dataset con los datos de alumnos que reseñaron los cursos por año asumiendo que lo reseñan cuando terminan"
   ]
  },
  {
   "cell_type": "code",
   "execution_count": 127,
   "metadata": {},
   "outputs": [],
   "source": [
    "# Convertir la columna 'Fecha' al tipo de datos de fecha\n",
    "coursera_reviews['Fecha'] = pd.to_datetime(coursera_reviews['date_reviews'])"
   ]
  },
  {
   "cell_type": "code",
   "execution_count": 128,
   "metadata": {},
   "outputs": [],
   "source": [
    "# Extraer el mes y el año en columnas separadas\n",
    "coursera_reviews['Mes'] = coursera_reviews['Fecha'].dt.strftime('%B')\n",
    "coursera_reviews['Año'] = coursera_reviews['Fecha'].dt.strftime('%Y')"
   ]
  },
  {
   "cell_type": "code",
   "execution_count": 129,
   "metadata": {},
   "outputs": [],
   "source": [
    "#Agrupar por curso y contar la cantidad por año\n",
    "alumnos_por_anio = coursera_reviews.groupby([\"course_id\",\"Año\"]).size().reset_index(name='Cantidad')"
   ]
  },
  {
   "cell_type": "code",
   "execution_count": 130,
   "metadata": {},
   "outputs": [],
   "source": [
    "# Hago un merge con coursera para que me queden los nombres de los cursos y no los id\n",
    "alumnos_por_anio= pd.merge(alumnos_por_anio, coursera[[\"course_id\", \"name\"]], on= \"course_id\", how= \"left\")"
   ]
  },
  {
   "cell_type": "code",
   "execution_count": 131,
   "metadata": {},
   "outputs": [],
   "source": [
    "alumnos_por_anio.rename(columns={\"name\": \"course_title\", }, inplace=True)"
   ]
  },
  {
   "cell_type": "code",
   "execution_count": 132,
   "metadata": {},
   "outputs": [],
   "source": [
    "#Exportar el archivo\n",
    "alumnos_por_anio.to_csv(\"alumnos_por_año.csv\", index= False)"
   ]
  },
  {
   "attachments": {},
   "cell_type": "markdown",
   "metadata": {},
   "source": [
    "Busco que columnas me interesan de los data set extra"
   ]
  },
  {
   "cell_type": "code",
   "execution_count": 133,
   "metadata": {},
   "outputs": [
    {
     "data": {
      "text/plain": [
       "Index(['url', 'title', 'associated-university-institution-company', 'type',\n",
       "       'image', 'category-subject-area', 'certificate-is-available',\n",
       "       'description', 'duration', 'language', 'level', 'prerequisites',\n",
       "       'price', 'rating', 'syllabus', 'timestamp'],\n",
       "      dtype='object')"
      ]
     },
     "execution_count": 133,
     "metadata": {},
     "output_type": "execute_result"
    }
   ],
   "source": [
    "coursera_completo.columns"
   ]
  },
  {
   "cell_type": "code",
   "execution_count": 134,
   "metadata": {},
   "outputs": [
    {
     "data": {
      "text/plain": [
       "Index(['url', 'price', 'course_by', 'title', 'skills', 'ratings', 'reviews',\n",
       "       'level, type and duration'],\n",
       "      dtype='object')"
      ]
     },
     "execution_count": 134,
     "metadata": {},
     "output_type": "execute_result"
    }
   ],
   "source": [
    "coursera_price_level.columns"
   ]
  },
  {
   "cell_type": "code",
   "execution_count": 135,
   "metadata": {},
   "outputs": [
    {
     "data": {
      "text/plain": [
       "Index(['Unnamed: 0', 'course_title', 'course_organization',\n",
       "       'course_Certificate_type', 'course_rating', 'course_difficulty',\n",
       "       'course_students_enrolled'],\n",
       "      dtype='object')"
      ]
     },
     "execution_count": 135,
     "metadata": {},
     "output_type": "execute_result"
    }
   ],
   "source": [
    "coursera_student.columns"
   ]
  },
  {
   "attachments": {},
   "cell_type": "markdown",
   "metadata": {},
   "source": [
    "Uno los data set"
   ]
  },
  {
   "cell_type": "code",
   "execution_count": 136,
   "metadata": {},
   "outputs": [],
   "source": [
    "# course_students_enrolled\n",
    "coursera = pd.merge(coursera, coursera_student[[\"course_title\", \"course_students_enrolled\"]], left_on= \"name\", right_on=\"course_title\", how= \"left\")"
   ]
  },
  {
   "cell_type": "code",
   "execution_count": 137,
   "metadata": {},
   "outputs": [],
   "source": [
    "# Level, lenguage, levele,type and duration\n",
    "coursera = pd.merge(coursera, coursera_completo[[\"title\",\"level\",'language', \"category-subject-area\"]], left_on=\"name\", right_on=\"title\", how= \"left\")\n",
    "coursera = pd.merge(coursera, coursera_price_level[[\"title\",\"level, type and duration\",]], left_on=\"name\", right_on=\"title\", how= \"left\")"
   ]
  },
  {
   "cell_type": "code",
   "execution_count": 138,
   "metadata": {},
   "outputs": [
    {
     "data": {
      "text/html": [
       "<div>\n",
       "<style scoped>\n",
       "    .dataframe tbody tr th:only-of-type {\n",
       "        vertical-align: middle;\n",
       "    }\n",
       "\n",
       "    .dataframe tbody tr th {\n",
       "        vertical-align: top;\n",
       "    }\n",
       "\n",
       "    .dataframe thead th {\n",
       "        text-align: right;\n",
       "    }\n",
       "</style>\n",
       "<table border=\"1\" class=\"dataframe\">\n",
       "  <thead>\n",
       "    <tr style=\"text-align: right;\">\n",
       "      <th></th>\n",
       "      <th>course_id</th>\n",
       "      <th>name</th>\n",
       "      <th>rating</th>\n",
       "      <th>course_title</th>\n",
       "      <th>course_students_enrolled</th>\n",
       "      <th>title_x</th>\n",
       "      <th>level</th>\n",
       "      <th>language</th>\n",
       "      <th>category-subject-area</th>\n",
       "      <th>title_y</th>\n",
       "      <th>level, type and duration</th>\n",
       "    </tr>\n",
       "  </thead>\n",
       "  <tbody>\n",
       "    <tr>\n",
       "      <th>0</th>\n",
       "      <td>machine-learning</td>\n",
       "      <td>Machine Learning</td>\n",
       "      <td>4.7</td>\n",
       "      <td>Machine Learning</td>\n",
       "      <td>290k</td>\n",
       "      <td>NaN</td>\n",
       "      <td>NaN</td>\n",
       "      <td>NaN</td>\n",
       "      <td>NaN</td>\n",
       "      <td>NaN</td>\n",
       "      <td>NaN</td>\n",
       "    </tr>\n",
       "    <tr>\n",
       "      <th>1</th>\n",
       "      <td>machine-learning</td>\n",
       "      <td>Machine Learning</td>\n",
       "      <td>4.7</td>\n",
       "      <td>Machine Learning</td>\n",
       "      <td>3.2m</td>\n",
       "      <td>NaN</td>\n",
       "      <td>NaN</td>\n",
       "      <td>NaN</td>\n",
       "      <td>NaN</td>\n",
       "      <td>NaN</td>\n",
       "      <td>NaN</td>\n",
       "    </tr>\n",
       "    <tr>\n",
       "      <th>2</th>\n",
       "      <td>indigenous-canada</td>\n",
       "      <td>Indigenous Canada</td>\n",
       "      <td>4.8</td>\n",
       "      <td>Indigenous Canada</td>\n",
       "      <td>51k</td>\n",
       "      <td>NaN</td>\n",
       "      <td>NaN</td>\n",
       "      <td>NaN</td>\n",
       "      <td>NaN</td>\n",
       "      <td>Indigenous Canada</td>\n",
       "      <td>Mixed · Course · 1-3 Months</td>\n",
       "    </tr>\n",
       "    <tr>\n",
       "      <th>3</th>\n",
       "      <td>the-science-of-well-being</td>\n",
       "      <td>The Science of Well-Being</td>\n",
       "      <td>4.9</td>\n",
       "      <td>The Science of Well-Being</td>\n",
       "      <td>2.5m</td>\n",
       "      <td>NaN</td>\n",
       "      <td>NaN</td>\n",
       "      <td>NaN</td>\n",
       "      <td>NaN</td>\n",
       "      <td>The Science of Well-Being</td>\n",
       "      <td>Mixed · Course · 1-3 Months</td>\n",
       "    </tr>\n",
       "    <tr>\n",
       "      <th>4</th>\n",
       "      <td>technical-support-fundamentals</td>\n",
       "      <td>Technical Support Fundamentals</td>\n",
       "      <td>4.8</td>\n",
       "      <td>Technical Support Fundamentals</td>\n",
       "      <td>280k</td>\n",
       "      <td>Technical Support Fundamentals</td>\n",
       "      <td>Beginner Level</td>\n",
       "      <td>English</td>\n",
       "      <td>Support and Operations</td>\n",
       "      <td>NaN</td>\n",
       "      <td>NaN</td>\n",
       "    </tr>\n",
       "    <tr>\n",
       "      <th>...</th>\n",
       "      <td>...</td>\n",
       "      <td>...</td>\n",
       "      <td>...</td>\n",
       "      <td>...</td>\n",
       "      <td>...</td>\n",
       "      <td>...</td>\n",
       "      <td>...</td>\n",
       "      <td>...</td>\n",
       "      <td>...</td>\n",
       "      <td>...</td>\n",
       "      <td>...</td>\n",
       "    </tr>\n",
       "    <tr>\n",
       "      <th>639</th>\n",
       "      <td>accounting-data-analytics-python</td>\n",
       "      <td>Accounting Data Analytics with Python</td>\n",
       "      <td>3.5</td>\n",
       "      <td>NaN</td>\n",
       "      <td>NaN</td>\n",
       "      <td>NaN</td>\n",
       "      <td>NaN</td>\n",
       "      <td>NaN</td>\n",
       "      <td>NaN</td>\n",
       "      <td>NaN</td>\n",
       "      <td>NaN</td>\n",
       "    </tr>\n",
       "    <tr>\n",
       "      <th>640</th>\n",
       "      <td>spectroscopy</td>\n",
       "      <td>Introduction to Molecular Spectroscopy</td>\n",
       "      <td>4.6</td>\n",
       "      <td>NaN</td>\n",
       "      <td>NaN</td>\n",
       "      <td>NaN</td>\n",
       "      <td>NaN</td>\n",
       "      <td>NaN</td>\n",
       "      <td>NaN</td>\n",
       "      <td>Introduction to Molecular Spectroscopy</td>\n",
       "      <td>Intermediate · Course · 1-4 Weeks</td>\n",
       "    </tr>\n",
       "    <tr>\n",
       "      <th>641</th>\n",
       "      <td>managing-as-a-coach</td>\n",
       "      <td>Managing as a Coach</td>\n",
       "      <td>4.7</td>\n",
       "      <td>NaN</td>\n",
       "      <td>NaN</td>\n",
       "      <td>NaN</td>\n",
       "      <td>NaN</td>\n",
       "      <td>NaN</td>\n",
       "      <td>NaN</td>\n",
       "      <td>NaN</td>\n",
       "      <td>NaN</td>\n",
       "    </tr>\n",
       "    <tr>\n",
       "      <th>642</th>\n",
       "      <td>hotel-distribution</td>\n",
       "      <td>The fundamentals of hotel distribution</td>\n",
       "      <td>NaN</td>\n",
       "      <td>NaN</td>\n",
       "      <td>NaN</td>\n",
       "      <td>NaN</td>\n",
       "      <td>NaN</td>\n",
       "      <td>NaN</td>\n",
       "      <td>NaN</td>\n",
       "      <td>NaN</td>\n",
       "      <td>NaN</td>\n",
       "    </tr>\n",
       "    <tr>\n",
       "      <th>643</th>\n",
       "      <td>data-science-course</td>\n",
       "      <td>A Crash Course in Data Science</td>\n",
       "      <td>NaN</td>\n",
       "      <td>A Crash Course in Data Science</td>\n",
       "      <td>130k</td>\n",
       "      <td>NaN</td>\n",
       "      <td>NaN</td>\n",
       "      <td>NaN</td>\n",
       "      <td>NaN</td>\n",
       "      <td>NaN</td>\n",
       "      <td>NaN</td>\n",
       "    </tr>\n",
       "  </tbody>\n",
       "</table>\n",
       "<p>644 rows × 11 columns</p>\n",
       "</div>"
      ],
      "text/plain": [
       "                            course_id                                    name  \\\n",
       "0                    machine-learning                        Machine Learning   \n",
       "1                    machine-learning                        Machine Learning   \n",
       "2                   indigenous-canada                       Indigenous Canada   \n",
       "3           the-science-of-well-being               The Science of Well-Being   \n",
       "4      technical-support-fundamentals          Technical Support Fundamentals   \n",
       "..                                ...                                     ...   \n",
       "639  accounting-data-analytics-python   Accounting Data Analytics with Python   \n",
       "640                      spectroscopy  Introduction to Molecular Spectroscopy   \n",
       "641               managing-as-a-coach                     Managing as a Coach   \n",
       "642                hotel-distribution  The fundamentals of hotel distribution   \n",
       "643               data-science-course          A Crash Course in Data Science   \n",
       "\n",
       "     rating                    course_title course_students_enrolled  \\\n",
       "0       4.7                Machine Learning                     290k   \n",
       "1       4.7                Machine Learning                     3.2m   \n",
       "2       4.8               Indigenous Canada                      51k   \n",
       "3       4.9       The Science of Well-Being                     2.5m   \n",
       "4       4.8  Technical Support Fundamentals                     280k   \n",
       "..      ...                             ...                      ...   \n",
       "639     3.5                             NaN                      NaN   \n",
       "640     4.6                             NaN                      NaN   \n",
       "641     4.7                             NaN                      NaN   \n",
       "642     NaN                             NaN                      NaN   \n",
       "643     NaN  A Crash Course in Data Science                     130k   \n",
       "\n",
       "                            title_x           level language  \\\n",
       "0                               NaN             NaN      NaN   \n",
       "1                               NaN             NaN      NaN   \n",
       "2                               NaN             NaN      NaN   \n",
       "3                               NaN             NaN      NaN   \n",
       "4    Technical Support Fundamentals  Beginner Level  English   \n",
       "..                              ...             ...      ...   \n",
       "639                             NaN             NaN      NaN   \n",
       "640                             NaN             NaN      NaN   \n",
       "641                             NaN             NaN      NaN   \n",
       "642                             NaN             NaN      NaN   \n",
       "643                             NaN             NaN      NaN   \n",
       "\n",
       "      category-subject-area                                 title_y  \\\n",
       "0                       NaN                                     NaN   \n",
       "1                       NaN                                     NaN   \n",
       "2                       NaN                       Indigenous Canada   \n",
       "3                       NaN               The Science of Well-Being   \n",
       "4    Support and Operations                                     NaN   \n",
       "..                      ...                                     ...   \n",
       "639                     NaN                                     NaN   \n",
       "640                     NaN  Introduction to Molecular Spectroscopy   \n",
       "641                     NaN                                     NaN   \n",
       "642                     NaN                                     NaN   \n",
       "643                     NaN                                     NaN   \n",
       "\n",
       "              level, type and duration  \n",
       "0                                  NaN  \n",
       "1                                  NaN  \n",
       "2          Mixed · Course · 1-3 Months  \n",
       "3          Mixed · Course · 1-3 Months  \n",
       "4                                  NaN  \n",
       "..                                 ...  \n",
       "639                                NaN  \n",
       "640  Intermediate · Course · 1-4 Weeks  \n",
       "641                                NaN  \n",
       "642                                NaN  \n",
       "643                                NaN  \n",
       "\n",
       "[644 rows x 11 columns]"
      ]
     },
     "execution_count": 138,
     "metadata": {},
     "output_type": "execute_result"
    }
   ],
   "source": [
    "coursera"
   ]
  },
  {
   "attachments": {},
   "cell_type": "markdown",
   "metadata": {},
   "source": [
    "Realizo las transformaciones necesarias"
   ]
  },
  {
   "cell_type": "code",
   "execution_count": 139,
   "metadata": {},
   "outputs": [],
   "source": [
    "# Me quedo solo con la primer palabra de la columna\n",
    "coursera[\"level, type and duration\"] = coursera['level, type and duration'].str.extract('(\\w+)')"
   ]
  },
  {
   "cell_type": "code",
   "execution_count": 140,
   "metadata": {},
   "outputs": [],
   "source": [
    "# Utilizar fillna() para reemplazar los valores nulos en 'level'\n",
    "coursera[\"level\"] = coursera[\"level\"].fillna(coursera[\"level, type and duration\"])"
   ]
  },
  {
   "cell_type": "code",
   "execution_count": 141,
   "metadata": {},
   "outputs": [],
   "source": [
    "#Normalizo los valores de level como los de udemy\n",
    "coursera.loc[:, \"level\"].replace({\"Mixed\" : \"All\", \"Beginner Level\": \"Beginner\", \"Intermediate Level\" : \"Intermediate\", \"-\": np.nan, \"Advanced\": \"Expert\"}, inplace= True)"
   ]
  },
  {
   "cell_type": "code",
   "execution_count": 142,
   "metadata": {},
   "outputs": [
    {
     "name": "stderr",
     "output_type": "stream",
     "text": [
      "C:\\Users\\Clarita\\AppData\\Local\\Temp\\ipykernel_10952\\2394513039.py:2: FutureWarning: The default value of regex will change from True to False in a future version. In addition, single character regular expressions will *not* be treated as literal strings when regex=True.\n",
      "  coursera['course_students_enrolled'] = coursera['course_students_enrolled'].str.replace('.', '').str.replace('k', '000').str.replace('m', '000000')\n"
     ]
    }
   ],
   "source": [
    "#Normalizo los valores de la columna course_students_enrolled\t\n",
    "coursera['course_students_enrolled'] = coursera['course_students_enrolled'].str.replace('.', '').str.replace('k', '000').str.replace('m', '000000')\n",
    "\n",
    "# Convertir la columna a tipo numérico\n",
    "coursera['course_students_enrolled']= pd.to_numeric(coursera['course_students_enrolled'])"
   ]
  },
  {
   "cell_type": "code",
   "execution_count": 143,
   "metadata": {},
   "outputs": [
    {
     "data": {
      "text/plain": [
       "array([nan, 'English', 'Spanish', 'Portuguese (Brazilian)'], dtype=object)"
      ]
     },
     "execution_count": 143,
     "metadata": {},
     "output_type": "execute_result"
    }
   ],
   "source": [
    "coursera[\"language\"].unique()"
   ]
  },
  {
   "cell_type": "code",
   "execution_count": 144,
   "metadata": {},
   "outputs": [],
   "source": [
    "#Normalizo los valores language \n",
    "coursera.loc[:, \"language\"].replace({'Portuguese (Brazilian)':'Portuguese'}, inplace= True)"
   ]
  },
  {
   "cell_type": "code",
   "execution_count": 145,
   "metadata": {},
   "outputs": [
    {
     "data": {
      "text/html": [
       "<div>\n",
       "<style scoped>\n",
       "    .dataframe tbody tr th:only-of-type {\n",
       "        vertical-align: middle;\n",
       "    }\n",
       "\n",
       "    .dataframe tbody tr th {\n",
       "        vertical-align: top;\n",
       "    }\n",
       "\n",
       "    .dataframe thead th {\n",
       "        text-align: right;\n",
       "    }\n",
       "</style>\n",
       "<table border=\"1\" class=\"dataframe\">\n",
       "  <thead>\n",
       "    <tr style=\"text-align: right;\">\n",
       "      <th></th>\n",
       "      <th>course_id</th>\n",
       "      <th>name</th>\n",
       "      <th>rating</th>\n",
       "      <th>course_title</th>\n",
       "      <th>course_students_enrolled</th>\n",
       "      <th>title_x</th>\n",
       "      <th>level</th>\n",
       "      <th>language</th>\n",
       "      <th>category-subject-area</th>\n",
       "      <th>title_y</th>\n",
       "      <th>level, type and duration</th>\n",
       "    </tr>\n",
       "  </thead>\n",
       "  <tbody>\n",
       "    <tr>\n",
       "      <th>0</th>\n",
       "      <td>machine-learning</td>\n",
       "      <td>Machine Learning</td>\n",
       "      <td>4.7</td>\n",
       "      <td>Machine Learning</td>\n",
       "      <td>290000.0</td>\n",
       "      <td>NaN</td>\n",
       "      <td>NaN</td>\n",
       "      <td>NaN</td>\n",
       "      <td>NaN</td>\n",
       "      <td>NaN</td>\n",
       "      <td>NaN</td>\n",
       "    </tr>\n",
       "    <tr>\n",
       "      <th>1</th>\n",
       "      <td>machine-learning</td>\n",
       "      <td>Machine Learning</td>\n",
       "      <td>4.7</td>\n",
       "      <td>Machine Learning</td>\n",
       "      <td>32000000.0</td>\n",
       "      <td>NaN</td>\n",
       "      <td>NaN</td>\n",
       "      <td>NaN</td>\n",
       "      <td>NaN</td>\n",
       "      <td>NaN</td>\n",
       "      <td>NaN</td>\n",
       "    </tr>\n",
       "    <tr>\n",
       "      <th>2</th>\n",
       "      <td>indigenous-canada</td>\n",
       "      <td>Indigenous Canada</td>\n",
       "      <td>4.8</td>\n",
       "      <td>Indigenous Canada</td>\n",
       "      <td>51000.0</td>\n",
       "      <td>NaN</td>\n",
       "      <td>All</td>\n",
       "      <td>NaN</td>\n",
       "      <td>NaN</td>\n",
       "      <td>Indigenous Canada</td>\n",
       "      <td>Mixed</td>\n",
       "    </tr>\n",
       "    <tr>\n",
       "      <th>3</th>\n",
       "      <td>the-science-of-well-being</td>\n",
       "      <td>The Science of Well-Being</td>\n",
       "      <td>4.9</td>\n",
       "      <td>The Science of Well-Being</td>\n",
       "      <td>25000000.0</td>\n",
       "      <td>NaN</td>\n",
       "      <td>All</td>\n",
       "      <td>NaN</td>\n",
       "      <td>NaN</td>\n",
       "      <td>The Science of Well-Being</td>\n",
       "      <td>Mixed</td>\n",
       "    </tr>\n",
       "    <tr>\n",
       "      <th>4</th>\n",
       "      <td>technical-support-fundamentals</td>\n",
       "      <td>Technical Support Fundamentals</td>\n",
       "      <td>4.8</td>\n",
       "      <td>Technical Support Fundamentals</td>\n",
       "      <td>280000.0</td>\n",
       "      <td>Technical Support Fundamentals</td>\n",
       "      <td>Beginner</td>\n",
       "      <td>English</td>\n",
       "      <td>Support and Operations</td>\n",
       "      <td>NaN</td>\n",
       "      <td>NaN</td>\n",
       "    </tr>\n",
       "    <tr>\n",
       "      <th>...</th>\n",
       "      <td>...</td>\n",
       "      <td>...</td>\n",
       "      <td>...</td>\n",
       "      <td>...</td>\n",
       "      <td>...</td>\n",
       "      <td>...</td>\n",
       "      <td>...</td>\n",
       "      <td>...</td>\n",
       "      <td>...</td>\n",
       "      <td>...</td>\n",
       "      <td>...</td>\n",
       "    </tr>\n",
       "    <tr>\n",
       "      <th>639</th>\n",
       "      <td>accounting-data-analytics-python</td>\n",
       "      <td>Accounting Data Analytics with Python</td>\n",
       "      <td>3.5</td>\n",
       "      <td>NaN</td>\n",
       "      <td>NaN</td>\n",
       "      <td>NaN</td>\n",
       "      <td>NaN</td>\n",
       "      <td>NaN</td>\n",
       "      <td>NaN</td>\n",
       "      <td>NaN</td>\n",
       "      <td>NaN</td>\n",
       "    </tr>\n",
       "    <tr>\n",
       "      <th>640</th>\n",
       "      <td>spectroscopy</td>\n",
       "      <td>Introduction to Molecular Spectroscopy</td>\n",
       "      <td>4.6</td>\n",
       "      <td>NaN</td>\n",
       "      <td>NaN</td>\n",
       "      <td>NaN</td>\n",
       "      <td>Intermediate</td>\n",
       "      <td>NaN</td>\n",
       "      <td>NaN</td>\n",
       "      <td>Introduction to Molecular Spectroscopy</td>\n",
       "      <td>Intermediate</td>\n",
       "    </tr>\n",
       "    <tr>\n",
       "      <th>641</th>\n",
       "      <td>managing-as-a-coach</td>\n",
       "      <td>Managing as a Coach</td>\n",
       "      <td>4.7</td>\n",
       "      <td>NaN</td>\n",
       "      <td>NaN</td>\n",
       "      <td>NaN</td>\n",
       "      <td>NaN</td>\n",
       "      <td>NaN</td>\n",
       "      <td>NaN</td>\n",
       "      <td>NaN</td>\n",
       "      <td>NaN</td>\n",
       "    </tr>\n",
       "    <tr>\n",
       "      <th>642</th>\n",
       "      <td>hotel-distribution</td>\n",
       "      <td>The fundamentals of hotel distribution</td>\n",
       "      <td>NaN</td>\n",
       "      <td>NaN</td>\n",
       "      <td>NaN</td>\n",
       "      <td>NaN</td>\n",
       "      <td>NaN</td>\n",
       "      <td>NaN</td>\n",
       "      <td>NaN</td>\n",
       "      <td>NaN</td>\n",
       "      <td>NaN</td>\n",
       "    </tr>\n",
       "    <tr>\n",
       "      <th>643</th>\n",
       "      <td>data-science-course</td>\n",
       "      <td>A Crash Course in Data Science</td>\n",
       "      <td>NaN</td>\n",
       "      <td>A Crash Course in Data Science</td>\n",
       "      <td>130000.0</td>\n",
       "      <td>NaN</td>\n",
       "      <td>NaN</td>\n",
       "      <td>NaN</td>\n",
       "      <td>NaN</td>\n",
       "      <td>NaN</td>\n",
       "      <td>NaN</td>\n",
       "    </tr>\n",
       "  </tbody>\n",
       "</table>\n",
       "<p>644 rows × 11 columns</p>\n",
       "</div>"
      ],
      "text/plain": [
       "                            course_id                                    name  \\\n",
       "0                    machine-learning                        Machine Learning   \n",
       "1                    machine-learning                        Machine Learning   \n",
       "2                   indigenous-canada                       Indigenous Canada   \n",
       "3           the-science-of-well-being               The Science of Well-Being   \n",
       "4      technical-support-fundamentals          Technical Support Fundamentals   \n",
       "..                                ...                                     ...   \n",
       "639  accounting-data-analytics-python   Accounting Data Analytics with Python   \n",
       "640                      spectroscopy  Introduction to Molecular Spectroscopy   \n",
       "641               managing-as-a-coach                     Managing as a Coach   \n",
       "642                hotel-distribution  The fundamentals of hotel distribution   \n",
       "643               data-science-course          A Crash Course in Data Science   \n",
       "\n",
       "     rating                    course_title  course_students_enrolled  \\\n",
       "0       4.7                Machine Learning                  290000.0   \n",
       "1       4.7                Machine Learning                32000000.0   \n",
       "2       4.8               Indigenous Canada                   51000.0   \n",
       "3       4.9       The Science of Well-Being                25000000.0   \n",
       "4       4.8  Technical Support Fundamentals                  280000.0   \n",
       "..      ...                             ...                       ...   \n",
       "639     3.5                             NaN                       NaN   \n",
       "640     4.6                             NaN                       NaN   \n",
       "641     4.7                             NaN                       NaN   \n",
       "642     NaN                             NaN                       NaN   \n",
       "643     NaN  A Crash Course in Data Science                  130000.0   \n",
       "\n",
       "                            title_x         level language  \\\n",
       "0                               NaN           NaN      NaN   \n",
       "1                               NaN           NaN      NaN   \n",
       "2                               NaN           All      NaN   \n",
       "3                               NaN           All      NaN   \n",
       "4    Technical Support Fundamentals      Beginner  English   \n",
       "..                              ...           ...      ...   \n",
       "639                             NaN           NaN      NaN   \n",
       "640                             NaN  Intermediate      NaN   \n",
       "641                             NaN           NaN      NaN   \n",
       "642                             NaN           NaN      NaN   \n",
       "643                             NaN           NaN      NaN   \n",
       "\n",
       "      category-subject-area                                 title_y  \\\n",
       "0                       NaN                                     NaN   \n",
       "1                       NaN                                     NaN   \n",
       "2                       NaN                       Indigenous Canada   \n",
       "3                       NaN               The Science of Well-Being   \n",
       "4    Support and Operations                                     NaN   \n",
       "..                      ...                                     ...   \n",
       "639                     NaN                                     NaN   \n",
       "640                     NaN  Introduction to Molecular Spectroscopy   \n",
       "641                     NaN                                     NaN   \n",
       "642                     NaN                                     NaN   \n",
       "643                     NaN                                     NaN   \n",
       "\n",
       "    level, type and duration  \n",
       "0                        NaN  \n",
       "1                        NaN  \n",
       "2                      Mixed  \n",
       "3                      Mixed  \n",
       "4                        NaN  \n",
       "..                       ...  \n",
       "639                      NaN  \n",
       "640             Intermediate  \n",
       "641                      NaN  \n",
       "642                      NaN  \n",
       "643                      NaN  \n",
       "\n",
       "[644 rows x 11 columns]"
      ]
     },
     "execution_count": 145,
     "metadata": {},
     "output_type": "execute_result"
    }
   ],
   "source": [
    "coursera"
   ]
  },
  {
   "cell_type": "code",
   "execution_count": 146,
   "metadata": {},
   "outputs": [],
   "source": [
    "# Elimino la columna title que viene del data set extra\n",
    "coursera.drop([\"title_x\", \"course_title\", \"title_y\", \"level, type and duration\"], axis=1, inplace= True)\n",
    "coursera.rename(columns={\"course_id\": \"Id\", \"course_students_enrolled\": \"num_subscribers\", \"name\": \"course_title\", \"category-subject-area\": \"category\"}, inplace=True)"
   ]
  },
  {
   "attachments": {},
   "cell_type": "markdown",
   "metadata": {},
   "source": [
    "Agrego columna con el nombre de la plataforma para referencia"
   ]
  },
  {
   "cell_type": "code",
   "execution_count": 147,
   "metadata": {},
   "outputs": [],
   "source": [
    "coursera[\"plataforma\"] = \"Coursera\""
   ]
  },
  {
   "cell_type": "code",
   "execution_count": 148,
   "metadata": {},
   "outputs": [
    {
     "data": {
      "text/plain": [
       "Id                   0\n",
       "course_title         0\n",
       "rating              20\n",
       "num_subscribers    153\n",
       "level              390\n",
       "language           590\n",
       "category           590\n",
       "plataforma           0\n",
       "dtype: int64"
      ]
     },
     "execution_count": 148,
     "metadata": {},
     "output_type": "execute_result"
    }
   ],
   "source": [
    "coursera.isnull().sum()"
   ]
  },
  {
   "cell_type": "code",
   "execution_count": 149,
   "metadata": {},
   "outputs": [
    {
     "data": {
      "text/plain": [
       "(644, 8)"
      ]
     },
     "execution_count": 149,
     "metadata": {},
     "output_type": "execute_result"
    }
   ],
   "source": [
    "coursera.shape"
   ]
  },
  {
   "attachments": {},
   "cell_type": "markdown",
   "metadata": {},
   "source": [
    "Elimino los que no tengan numero de suscriptores ya que como uní los datos con otro dataset, que no tenga número de suscriptores podría significar que el curso no aparecía en el data set extra y no que el curso no tiene alumnos"
   ]
  },
  {
   "cell_type": "code",
   "execution_count": 150,
   "metadata": {},
   "outputs": [],
   "source": [
    "coursera.dropna(subset=\"num_subscribers\", inplace= True)"
   ]
  },
  {
   "attachments": {},
   "cell_type": "markdown",
   "metadata": {},
   "source": [
    "### Udemy"
   ]
  },
  {
   "cell_type": "code",
   "execution_count": 151,
   "metadata": {},
   "outputs": [
    {
     "data": {
      "text/plain": [
       "Index(['course_id', 'course_title', 'url', 'is_paid', 'price',\n",
       "       'num_subscribers', 'num_reviews', 'num_lectures', 'level',\n",
       "       'content_duration', 'published_timestamp', 'subject'],\n",
       "      dtype='object')"
      ]
     },
     "execution_count": 151,
     "metadata": {},
     "output_type": "execute_result"
    }
   ],
   "source": [
    "udemy_info.columns"
   ]
  },
  {
   "cell_type": "code",
   "execution_count": 152,
   "metadata": {},
   "outputs": [],
   "source": [
    "# Me quedo con las columnas que voy a utilizar\n",
    "udemy = udemy_info[['course_id', 'course_title','is_paid', 'price',\n",
    "       'num_subscribers', 'level', \"content_duration\", \"published_timestamp\"]]"
   ]
  },
  {
   "cell_type": "code",
   "execution_count": 153,
   "metadata": {},
   "outputs": [
    {
     "name": "stderr",
     "output_type": "stream",
     "text": [
      "C:\\Users\\Clarita\\AppData\\Local\\Temp\\ipykernel_10952\\920758881.py:2: SettingWithCopyWarning: \n",
      "A value is trying to be set on a copy of a slice from a DataFrame\n",
      "\n",
      "See the caveats in the documentation: https://pandas.pydata.org/pandas-docs/stable/user_guide/indexing.html#returning-a-view-versus-a-copy\n",
      "  udemy.drop_duplicates(inplace=True)\n"
     ]
    }
   ],
   "source": [
    "#Elimino duplicados\n",
    "udemy.drop_duplicates(inplace=True)"
   ]
  },
  {
   "attachments": {},
   "cell_type": "markdown",
   "metadata": {},
   "source": [
    "Busco las columnas que me interesan del data set extra"
   ]
  },
  {
   "cell_type": "code",
   "execution_count": 154,
   "metadata": {},
   "outputs": [
    {
     "data": {
      "text/plain": [
       "Index(['id', 'title', 'is_paid', 'price', 'headline', 'num_subscribers',\n",
       "       'avg_rating', 'num_reviews', 'num_comments', 'num_lectures',\n",
       "       'content_length_min', 'published_time', 'last_update_date', 'category',\n",
       "       'subcategory', 'topic', 'language', 'course_url', 'instructor_name',\n",
       "       'instructor_url'],\n",
       "      dtype='object')"
      ]
     },
     "execution_count": 154,
     "metadata": {},
     "output_type": "execute_result"
    }
   ],
   "source": [
    "udemy_extra.columns"
   ]
  },
  {
   "cell_type": "code",
   "execution_count": 155,
   "metadata": {},
   "outputs": [],
   "source": [
    "#Agrego las columnas del data set extra\n",
    "udemy = pd.merge(udemy, udemy_extra[['id','avg_rating', 'language', 'category']], left_on=\"course_id\", right_on=\"id\", suffixes=('', '_extra'))\n"
   ]
  },
  {
   "attachments": {},
   "cell_type": "markdown",
   "metadata": {},
   "source": [
    "Realizo las transformaciones de formato necesarias"
   ]
  },
  {
   "cell_type": "code",
   "execution_count": 156,
   "metadata": {},
   "outputs": [],
   "source": [
    "#Elimino el id que viene del merge y le cambio el nombre a la columna course_id\n",
    "udemy.drop([\"id\"], axis= 1, inplace= True)\n",
    "udemy.rename(columns={\"course_id\": \"Id\", 'avg_rating': \"rating\"}, inplace=True)"
   ]
  },
  {
   "cell_type": "code",
   "execution_count": 157,
   "metadata": {},
   "outputs": [
    {
     "data": {
      "text/plain": [
       "array(['All Levels', 'Intermediate Level', 'Beginner Level',\n",
       "       'Expert Level'], dtype=object)"
      ]
     },
     "execution_count": 157,
     "metadata": {},
     "output_type": "execute_result"
    }
   ],
   "source": [
    "#Miro los valores únicos de la columna \n",
    "udemy[\"level\"].unique()"
   ]
  },
  {
   "cell_type": "code",
   "execution_count": 158,
   "metadata": {},
   "outputs": [],
   "source": [
    "# Elimino las palabras Level y Levels, luego elimino posibles espacios en blanco\n",
    "udemy[\"level\"] = udemy[\"level\"].str.replace(\"Levels\",'').str.replace(\"Level\",'').str.strip()"
   ]
  },
  {
   "cell_type": "code",
   "execution_count": 159,
   "metadata": {},
   "outputs": [],
   "source": [
    "# Redondeo rating a un decimal\n",
    "udemy[\"rating\"] = round(udemy[\"rating\"],1)"
   ]
  },
  {
   "cell_type": "code",
   "execution_count": 160,
   "metadata": {},
   "outputs": [
    {
     "data": {
      "text/plain": [
       "array(['English', 'Spanish', 'German', 'Arabic', 'Japanese', 'French',\n",
       "       'Portuguese', 'Russian', 'Simplified Chinese', 'Hindi', 'Italian',\n",
       "       'Korean', 'Turkish', 'Urdu'], dtype=object)"
      ]
     },
     "execution_count": 160,
     "metadata": {},
     "output_type": "execute_result"
    }
   ],
   "source": [
    "udemy[\"language\"].unique()"
   ]
  },
  {
   "cell_type": "code",
   "execution_count": 161,
   "metadata": {},
   "outputs": [],
   "source": [
    "#Normalizo los valores language \n",
    "udemy.loc[:, \"language\"].replace({'Simplified Chinese':'Chinese'}, inplace= True)"
   ]
  },
  {
   "cell_type": "code",
   "execution_count": 162,
   "metadata": {},
   "outputs": [
    {
     "data": {
      "text/plain": [
       "'2017-01-18T20:58:58Z'"
      ]
     },
     "execution_count": 162,
     "metadata": {},
     "output_type": "execute_result"
    }
   ],
   "source": [
    "udemy[\"published_timestamp\"][0]\n"
   ]
  },
  {
   "cell_type": "code",
   "execution_count": 163,
   "metadata": {},
   "outputs": [],
   "source": [
    "#Genero una columna nueva a partir de la fecha de publicación del curso dejando solo el año \n",
    "udemy['published_timestamp'] = pd.to_datetime(udemy['published_timestamp'])\n",
    "udemy[\"anio_publicacion\"] = udemy['published_timestamp'].dt.year\n",
    "udemy.drop([\"published_timestamp\"], axis=1, inplace=True)"
   ]
  },
  {
   "cell_type": "code",
   "execution_count": 164,
   "metadata": {},
   "outputs": [],
   "source": [
    "#Modifico los valores de is_paid por ceros y unos\n",
    "udemy.loc[:, \"is_paid\"].replace({True: \"Si\", False: \"No\"}, inplace= True)"
   ]
  },
  {
   "attachments": {},
   "cell_type": "markdown",
   "metadata": {},
   "source": [
    "Agrego columna de ingresos por curso"
   ]
  },
  {
   "cell_type": "code",
   "execution_count": 165,
   "metadata": {},
   "outputs": [],
   "source": [
    "udemy[\"ingreso_por_curso\"] = udemy[\"price\"] * udemy[\"num_subscribers\"]"
   ]
  },
  {
   "attachments": {},
   "cell_type": "markdown",
   "metadata": {},
   "source": [
    "Agrego columna para tener referencia de que plataforma hace referencia"
   ]
  },
  {
   "cell_type": "code",
   "execution_count": 166,
   "metadata": {},
   "outputs": [],
   "source": [
    "udemy[\"plataforma\"] = \"Udemy\""
   ]
  },
  {
   "cell_type": "code",
   "execution_count": 167,
   "metadata": {},
   "outputs": [
    {
     "data": {
      "text/plain": [
       "Id                   0\n",
       "course_title         0\n",
       "is_paid              0\n",
       "price                0\n",
       "num_subscribers      0\n",
       "level                0\n",
       "content_duration     0\n",
       "rating               0\n",
       "language             0\n",
       "category             0\n",
       "anio_publicacion     0\n",
       "ingreso_por_curso    0\n",
       "plataforma           0\n",
       "dtype: int64"
      ]
     },
     "execution_count": 167,
     "metadata": {},
     "output_type": "execute_result"
    }
   ],
   "source": [
    "# Miro los datos nulos\n",
    "udemy.isnull().sum()"
   ]
  },
  {
   "attachments": {},
   "cell_type": "markdown",
   "metadata": {},
   "source": [
    "### edX"
   ]
  },
  {
   "cell_type": "code",
   "execution_count": 168,
   "metadata": {},
   "outputs": [
    {
     "data": {
      "text/plain": [
       "Index(['title', 'summary', 'n_enrolled', 'course_type', 'institution',\n",
       "       'instructors', 'Level', 'subject', 'language', 'subtitles',\n",
       "       'course_effort', 'course_length', 'price', 'course_description',\n",
       "       'course_syllabus', 'course_url'],\n",
       "      dtype='object')"
      ]
     },
     "execution_count": 168,
     "metadata": {},
     "output_type": "execute_result"
    }
   ],
   "source": [
    "edx_info.columns"
   ]
  },
  {
   "cell_type": "code",
   "execution_count": 169,
   "metadata": {},
   "outputs": [],
   "source": [
    "edx = edx_info[['title','n_enrolled','Level','subject', 'language','price', \"course_length\"]]"
   ]
  },
  {
   "cell_type": "code",
   "execution_count": 170,
   "metadata": {},
   "outputs": [
    {
     "name": "stderr",
     "output_type": "stream",
     "text": [
      "C:\\Users\\Clarita\\AppData\\Local\\Temp\\ipykernel_10952\\10579408.py:2: SettingWithCopyWarning: \n",
      "A value is trying to be set on a copy of a slice from a DataFrame\n",
      "\n",
      "See the caveats in the documentation: https://pandas.pydata.org/pandas-docs/stable/user_guide/indexing.html#returning-a-view-versus-a-copy\n",
      "  edx.drop_duplicates(inplace= True)\n"
     ]
    }
   ],
   "source": [
    "#Elimino duplicados\n",
    "edx.drop_duplicates(inplace= True)"
   ]
  },
  {
   "cell_type": "code",
   "execution_count": 171,
   "metadata": {},
   "outputs": [
    {
     "name": "stderr",
     "output_type": "stream",
     "text": [
      "C:\\Users\\Clarita\\AppData\\Local\\Temp\\ipykernel_10952\\2335420912.py:1: SettingWithCopyWarning: \n",
      "A value is trying to be set on a copy of a slice from a DataFrame\n",
      "\n",
      "See the caveats in the documentation: https://pandas.pydata.org/pandas-docs/stable/user_guide/indexing.html#returning-a-view-versus-a-copy\n",
      "  edx.rename(columns={'title': 'course_title', \"n_enrolled\":\"num_subscribers\", 'Level': 'level', 'subject': \"category\", \"course_length\": \"content_duration\"}, inplace=True)\n"
     ]
    }
   ],
   "source": [
    "edx.rename(columns={'title': 'course_title', \"n_enrolled\":\"num_subscribers\", 'Level': 'level', 'subject': \"category\", \"course_length\": \"content_duration\"}, inplace=True)"
   ]
  },
  {
   "attachments": {},
   "cell_type": "markdown",
   "metadata": {},
   "source": [
    "Realizo las transformaciones necesarias"
   ]
  },
  {
   "cell_type": "code",
   "execution_count": 172,
   "metadata": {},
   "outputs": [
    {
     "name": "stderr",
     "output_type": "stream",
     "text": [
      "C:\\Users\\Clarita\\AppData\\Local\\Temp\\ipykernel_10952\\3817391365.py:2: SettingWithCopyWarning: \n",
      "A value is trying to be set on a copy of a slice from a DataFrame.\n",
      "Try using .loc[row_indexer,col_indexer] = value instead\n",
      "\n",
      "See the caveats in the documentation: https://pandas.pydata.org/pandas-docs/stable/user_guide/indexing.html#returning-a-view-versus-a-copy\n",
      "  edx[\"num_subscribers\"] = pd.to_numeric(edx[\"num_subscribers\"].str.replace(\",\", \"\"), errors='coerce').astype(pd.Int64Dtype())\n"
     ]
    }
   ],
   "source": [
    "# Reemplazo la coma por nada en num_subscribers\n",
    "edx[\"num_subscribers\"] = pd.to_numeric(edx[\"num_subscribers\"].str.replace(\",\", \"\"), errors='coerce').astype(pd.Int64Dtype())"
   ]
  },
  {
   "cell_type": "code",
   "execution_count": 173,
   "metadata": {},
   "outputs": [
    {
     "name": "stderr",
     "output_type": "stream",
     "text": [
      "C:\\Users\\Clarita\\AppData\\Local\\Temp\\ipykernel_10952\\3672510344.py:2: SettingWithCopyWarning: \n",
      "A value is trying to be set on a copy of a slice from a DataFrame.\n",
      "Try using .loc[row_indexer,col_indexer] = value instead\n",
      "\n",
      "See the caveats in the documentation: https://pandas.pydata.org/pandas-docs/stable/user_guide/indexing.html#returning-a-view-versus-a-copy\n",
      "  edx.loc[:,'add_certificate'] = edx['price'].str.contains('FREE', case=False)\n",
      "C:\\Users\\Clarita\\AppData\\Local\\Temp\\ipykernel_10952\\3672510344.py:3: SettingWithCopyWarning: \n",
      "A value is trying to be set on a copy of a slice from a DataFrame.\n",
      "Try using .loc[row_indexer,col_indexer] = value instead\n",
      "\n",
      "See the caveats in the documentation: https://pandas.pydata.org/pandas-docs/stable/user_guide/indexing.html#returning-a-view-versus-a-copy\n",
      "  edx.loc[:,'price_Certificate'] = edx['price'].str.extract(r'\\$(\\d+)').astype(int)\n",
      "C:\\Users\\Clarita\\AppData\\Local\\Temp\\ipykernel_10952\\3672510344.py:4: SettingWithCopyWarning: \n",
      "A value is trying to be set on a copy of a slice from a DataFrame.\n",
      "Try using .loc[row_indexer,col_indexer] = value instead\n",
      "\n",
      "See the caveats in the documentation: https://pandas.pydata.org/pandas-docs/stable/user_guide/indexing.html#returning-a-view-versus-a-copy\n",
      "  edx['is_paid'] = np.where(edx['add_certificate'], False, True)\n"
     ]
    }
   ],
   "source": [
    "# Extraigo de la columna price, por un lado si es gratuito, por otro si tiene posibilidad de certificación y cuanto vale \n",
    "edx.loc[:,'add_certificate'] = edx['price'].str.contains('FREE', case=False)\n",
    "edx.loc[:,'price_Certificate'] = edx['price'].str.extract(r'\\$(\\d+)').astype(int)\n",
    "edx['is_paid'] = np.where(edx['add_certificate'], False, True)\n"
   ]
  },
  {
   "cell_type": "code",
   "execution_count": 174,
   "metadata": {},
   "outputs": [
    {
     "name": "stderr",
     "output_type": "stream",
     "text": [
      "C:\\Users\\Clarita\\AppData\\Local\\Temp\\ipykernel_10952\\2797811582.py:2: SettingWithCopyWarning: \n",
      "A value is trying to be set on a copy of a slice from a DataFrame\n",
      "\n",
      "See the caveats in the documentation: https://pandas.pydata.org/pandas-docs/stable/user_guide/indexing.html#returning-a-view-versus-a-copy\n",
      "  edx.loc[:, \"is_paid\"].replace({True: \"Si\", False: \"No\"}, inplace= True)\n"
     ]
    }
   ],
   "source": [
    "#Modifico los valores de is_paid por si y no\n",
    "edx.loc[:, \"is_paid\"].replace({True: \"Si\", False: \"No\"}, inplace= True)"
   ]
  },
  {
   "cell_type": "code",
   "execution_count": 175,
   "metadata": {},
   "outputs": [
    {
     "name": "stderr",
     "output_type": "stream",
     "text": [
      "C:\\Users\\Clarita\\AppData\\Local\\Temp\\ipykernel_10952\\697017449.py:2: SettingWithCopyWarning: \n",
      "A value is trying to be set on a copy of a slice from a DataFrame\n",
      "\n",
      "See the caveats in the documentation: https://pandas.pydata.org/pandas-docs/stable/user_guide/indexing.html#returning-a-view-versus-a-copy\n",
      "  edx.loc[:, \"add_certificate\"].replace({True: \"Si\", False: \"No\"}, inplace= True)\n"
     ]
    }
   ],
   "source": [
    "#Modifico los valores de add_certificate por si y no\n",
    "edx.loc[:, \"add_certificate\"].replace({True: \"Si\", False: \"No\"}, inplace= True)"
   ]
  },
  {
   "cell_type": "code",
   "execution_count": 176,
   "metadata": {},
   "outputs": [
    {
     "data": {
      "text/html": [
       "<div>\n",
       "<style scoped>\n",
       "    .dataframe tbody tr th:only-of-type {\n",
       "        vertical-align: middle;\n",
       "    }\n",
       "\n",
       "    .dataframe tbody tr th {\n",
       "        vertical-align: top;\n",
       "    }\n",
       "\n",
       "    .dataframe thead th {\n",
       "        text-align: right;\n",
       "    }\n",
       "</style>\n",
       "<table border=\"1\" class=\"dataframe\">\n",
       "  <thead>\n",
       "    <tr style=\"text-align: right;\">\n",
       "      <th></th>\n",
       "      <th>course_title</th>\n",
       "      <th>num_subscribers</th>\n",
       "      <th>level</th>\n",
       "      <th>category</th>\n",
       "      <th>language</th>\n",
       "      <th>price</th>\n",
       "      <th>content_duration</th>\n",
       "      <th>add_certificate</th>\n",
       "      <th>price_Certificate</th>\n",
       "      <th>is_paid</th>\n",
       "    </tr>\n",
       "  </thead>\n",
       "  <tbody>\n",
       "    <tr>\n",
       "      <th>0</th>\n",
       "      <td>How to Learn Online</td>\n",
       "      <td>124980</td>\n",
       "      <td>Introductory</td>\n",
       "      <td>Education &amp; Teacher Training</td>\n",
       "      <td>English</td>\n",
       "      <td>FREE-Add a Verified Certificate for $49 USD</td>\n",
       "      <td>2 Weeks</td>\n",
       "      <td>Si</td>\n",
       "      <td>49</td>\n",
       "      <td>No</td>\n",
       "    </tr>\n",
       "    <tr>\n",
       "      <th>1</th>\n",
       "      <td>Programming for Everybody (Getting Started wit...</td>\n",
       "      <td>293864</td>\n",
       "      <td>Introductory</td>\n",
       "      <td>Computer Science</td>\n",
       "      <td>English</td>\n",
       "      <td>FREE-Add a Verified Certificate for $49 USD</td>\n",
       "      <td>7 Weeks</td>\n",
       "      <td>Si</td>\n",
       "      <td>49</td>\n",
       "      <td>No</td>\n",
       "    </tr>\n",
       "    <tr>\n",
       "      <th>2</th>\n",
       "      <td>CS50's Introduction to Computer Science</td>\n",
       "      <td>2442271</td>\n",
       "      <td>Introductory</td>\n",
       "      <td>Computer Science</td>\n",
       "      <td>English</td>\n",
       "      <td>FREE-Add a Verified Certificate for $90 USD</td>\n",
       "      <td>12 Weeks</td>\n",
       "      <td>Si</td>\n",
       "      <td>90</td>\n",
       "      <td>No</td>\n",
       "    </tr>\n",
       "    <tr>\n",
       "      <th>3</th>\n",
       "      <td>The Analytics Edge</td>\n",
       "      <td>129555</td>\n",
       "      <td>Intermediate</td>\n",
       "      <td>Data Analysis &amp; Statistics</td>\n",
       "      <td>English</td>\n",
       "      <td>FREE-Add a Verified Certificate for $199 USD</td>\n",
       "      <td>13 Weeks</td>\n",
       "      <td>Si</td>\n",
       "      <td>199</td>\n",
       "      <td>No</td>\n",
       "    </tr>\n",
       "    <tr>\n",
       "      <th>4</th>\n",
       "      <td>Marketing Analytics: Marketing Measurement Str...</td>\n",
       "      <td>81140</td>\n",
       "      <td>Introductory</td>\n",
       "      <td>Computer Science</td>\n",
       "      <td>English</td>\n",
       "      <td>FREE-Add a Verified Certificate for $249 USD</td>\n",
       "      <td>4 Weeks</td>\n",
       "      <td>Si</td>\n",
       "      <td>249</td>\n",
       "      <td>No</td>\n",
       "    </tr>\n",
       "    <tr>\n",
       "      <th>...</th>\n",
       "      <td>...</td>\n",
       "      <td>...</td>\n",
       "      <td>...</td>\n",
       "      <td>...</td>\n",
       "      <td>...</td>\n",
       "      <td>...</td>\n",
       "      <td>...</td>\n",
       "      <td>...</td>\n",
       "      <td>...</td>\n",
       "      <td>...</td>\n",
       "    </tr>\n",
       "    <tr>\n",
       "      <th>970</th>\n",
       "      <td>Leaders in Citizen Security and Justice Manage...</td>\n",
       "      <td>&lt;NA&gt;</td>\n",
       "      <td>Intermediate</td>\n",
       "      <td>Social Sciences</td>\n",
       "      <td>English</td>\n",
       "      <td>FREE-Add a Verified Certificate for $25 USD</td>\n",
       "      <td>10 Weeks</td>\n",
       "      <td>Si</td>\n",
       "      <td>25</td>\n",
       "      <td>No</td>\n",
       "    </tr>\n",
       "    <tr>\n",
       "      <th>971</th>\n",
       "      <td>Pattern Studying and Making | 图案审美与创作</td>\n",
       "      <td>&lt;NA&gt;</td>\n",
       "      <td>Introductory</td>\n",
       "      <td>Art &amp; Culture</td>\n",
       "      <td>中文</td>\n",
       "      <td>FREE-Add a Verified Certificate for $139 USD</td>\n",
       "      <td>12 Weeks</td>\n",
       "      <td>Si</td>\n",
       "      <td>139</td>\n",
       "      <td>No</td>\n",
       "    </tr>\n",
       "    <tr>\n",
       "      <th>972</th>\n",
       "      <td>Computational Neuroscience: Neuronal Dynamics ...</td>\n",
       "      <td>11246</td>\n",
       "      <td>Advanced</td>\n",
       "      <td>Biology &amp; Life Sciences</td>\n",
       "      <td>English</td>\n",
       "      <td>FREE-Add a Verified Certificate for $139 USD</td>\n",
       "      <td>6 Weeks</td>\n",
       "      <td>Si</td>\n",
       "      <td>139</td>\n",
       "      <td>No</td>\n",
       "    </tr>\n",
       "    <tr>\n",
       "      <th>973</th>\n",
       "      <td>Cities and the Challenge of Sustainable Develo...</td>\n",
       "      <td>8775</td>\n",
       "      <td>Introductory</td>\n",
       "      <td>Environmental Studies</td>\n",
       "      <td>English</td>\n",
       "      <td>FREE-Add a Verified Certificate for $25 USD</td>\n",
       "      <td>1 Weeks</td>\n",
       "      <td>Si</td>\n",
       "      <td>25</td>\n",
       "      <td>No</td>\n",
       "    </tr>\n",
       "    <tr>\n",
       "      <th>974</th>\n",
       "      <td>MathTrackX: Special Functions</td>\n",
       "      <td>&lt;NA&gt;</td>\n",
       "      <td>Introductory</td>\n",
       "      <td>Math</td>\n",
       "      <td>English</td>\n",
       "      <td>FREE-Add a Verified Certificate for $79 USD</td>\n",
       "      <td>4 Weeks</td>\n",
       "      <td>Si</td>\n",
       "      <td>79</td>\n",
       "      <td>No</td>\n",
       "    </tr>\n",
       "  </tbody>\n",
       "</table>\n",
       "<p>974 rows × 10 columns</p>\n",
       "</div>"
      ],
      "text/plain": [
       "                                          course_title  num_subscribers  \\\n",
       "0                                  How to Learn Online           124980   \n",
       "1    Programming for Everybody (Getting Started wit...           293864   \n",
       "2              CS50's Introduction to Computer Science          2442271   \n",
       "3                                   The Analytics Edge           129555   \n",
       "4    Marketing Analytics: Marketing Measurement Str...            81140   \n",
       "..                                                 ...              ...   \n",
       "970  Leaders in Citizen Security and Justice Manage...             <NA>   \n",
       "971              Pattern Studying and Making | 图案审美与创作             <NA>   \n",
       "972  Computational Neuroscience: Neuronal Dynamics ...            11246   \n",
       "973  Cities and the Challenge of Sustainable Develo...             8775   \n",
       "974                      MathTrackX: Special Functions             <NA>   \n",
       "\n",
       "            level                      category language  \\\n",
       "0    Introductory  Education & Teacher Training  English   \n",
       "1    Introductory              Computer Science  English   \n",
       "2    Introductory              Computer Science  English   \n",
       "3    Intermediate    Data Analysis & Statistics  English   \n",
       "4    Introductory              Computer Science  English   \n",
       "..            ...                           ...      ...   \n",
       "970  Intermediate               Social Sciences  English   \n",
       "971  Introductory                 Art & Culture       中文   \n",
       "972      Advanced       Biology & Life Sciences  English   \n",
       "973  Introductory         Environmental Studies  English   \n",
       "974  Introductory                          Math  English   \n",
       "\n",
       "                                            price content_duration  \\\n",
       "0     FREE-Add a Verified Certificate for $49 USD          2 Weeks   \n",
       "1     FREE-Add a Verified Certificate for $49 USD          7 Weeks   \n",
       "2     FREE-Add a Verified Certificate for $90 USD         12 Weeks   \n",
       "3    FREE-Add a Verified Certificate for $199 USD         13 Weeks   \n",
       "4    FREE-Add a Verified Certificate for $249 USD          4 Weeks   \n",
       "..                                            ...              ...   \n",
       "970   FREE-Add a Verified Certificate for $25 USD         10 Weeks   \n",
       "971  FREE-Add a Verified Certificate for $139 USD         12 Weeks   \n",
       "972  FREE-Add a Verified Certificate for $139 USD          6 Weeks   \n",
       "973   FREE-Add a Verified Certificate for $25 USD          1 Weeks   \n",
       "974   FREE-Add a Verified Certificate for $79 USD          4 Weeks   \n",
       "\n",
       "    add_certificate  price_Certificate is_paid  \n",
       "0                Si                 49      No  \n",
       "1                Si                 49      No  \n",
       "2                Si                 90      No  \n",
       "3                Si                199      No  \n",
       "4                Si                249      No  \n",
       "..              ...                ...     ...  \n",
       "970              Si                 25      No  \n",
       "971              Si                139      No  \n",
       "972              Si                139      No  \n",
       "973              Si                 25      No  \n",
       "974              Si                 79      No  \n",
       "\n",
       "[974 rows x 10 columns]"
      ]
     },
     "execution_count": 176,
     "metadata": {},
     "output_type": "execute_result"
    }
   ],
   "source": [
    "edx"
   ]
  },
  {
   "cell_type": "code",
   "execution_count": 177,
   "metadata": {},
   "outputs": [],
   "source": [
    "# Cambio los valores del precio ya que si es Gratis deberá ser nulo\n",
    "edx.loc[edx[\"is_paid\"] == \"No\", \"price\"] = 0"
   ]
  },
  {
   "cell_type": "code",
   "execution_count": 178,
   "metadata": {},
   "outputs": [
    {
     "name": "stderr",
     "output_type": "stream",
     "text": [
      "C:\\Users\\Clarita\\AppData\\Local\\Temp\\ipykernel_10952\\778010007.py:2: SettingWithCopyWarning: \n",
      "A value is trying to be set on a copy of a slice from a DataFrame\n",
      "\n",
      "See the caveats in the documentation: https://pandas.pydata.org/pandas-docs/stable/user_guide/indexing.html#returning-a-view-versus-a-copy\n",
      "  edx.loc[:, \"level\"].replace({\"Introductory\": \"Beginner\", \"Advanced\" : \"Expert\"}, inplace= True)\n"
     ]
    }
   ],
   "source": [
    "#Normalizo los valores de level como los de udemy\n",
    "edx.loc[:, \"level\"].replace({\"Introductory\": \"Beginner\", \"Advanced\" : \"Expert\"}, inplace= True)"
   ]
  },
  {
   "cell_type": "code",
   "execution_count": 179,
   "metadata": {},
   "outputs": [
    {
     "name": "stderr",
     "output_type": "stream",
     "text": [
      "C:\\Users\\Clarita\\AppData\\Local\\Temp\\ipykernel_10952\\287060545.py:2: SettingWithCopyWarning: \n",
      "A value is trying to be set on a copy of a slice from a DataFrame.\n",
      "Try using .loc[row_indexer,col_indexer] = value instead\n",
      "\n",
      "See the caveats in the documentation: https://pandas.pydata.org/pandas-docs/stable/user_guide/indexing.html#returning-a-view-versus-a-copy\n",
      "  edx[\"content_duration\"] = edx[\"content_duration\"].str.replace(' Weeks', '').astype(int) * 7 * 24\n"
     ]
    }
   ],
   "source": [
    "#Normalizo la duración a horas\n",
    "edx[\"content_duration\"] = edx[\"content_duration\"].str.replace(' Weeks', '').astype(int) * 7 * 24\n"
   ]
  },
  {
   "cell_type": "code",
   "execution_count": 180,
   "metadata": {},
   "outputs": [
    {
     "data": {
      "text/plain": [
       "array(['English', 'Español', 'Italiano', '日本語', 'Français', '中文',\n",
       "       'Português', 'اللغة العربية', 'Deutsch'], dtype=object)"
      ]
     },
     "execution_count": 180,
     "metadata": {},
     "output_type": "execute_result"
    }
   ],
   "source": [
    "edx[\"language\"].unique()"
   ]
  },
  {
   "cell_type": "code",
   "execution_count": 181,
   "metadata": {},
   "outputs": [
    {
     "name": "stderr",
     "output_type": "stream",
     "text": [
      "C:\\Users\\Clarita\\AppData\\Local\\Temp\\ipykernel_10952\\1015654758.py:2: SettingWithCopyWarning: \n",
      "A value is trying to be set on a copy of a slice from a DataFrame\n",
      "\n",
      "See the caveats in the documentation: https://pandas.pydata.org/pandas-docs/stable/user_guide/indexing.html#returning-a-view-versus-a-copy\n",
      "  edx.loc[:, \"language\"].replace({'Español': 'Spanish','Italiano' : 'Italian', '日本語':'Japanese', 'Français': 'French', '中文':'Chinese','Português':'Portuguese', 'Deutsch': 'German'}, inplace= True)\n"
     ]
    }
   ],
   "source": [
    "#Normalizo los valores language \n",
    "edx.loc[:, \"language\"].replace({'Español': 'Spanish','Italiano' : 'Italian', '日本語':'Japanese', 'Français': 'French', '中文':'Chinese','Português':'Portuguese', 'Deutsch': 'German'}, inplace= True)"
   ]
  },
  {
   "attachments": {},
   "cell_type": "markdown",
   "metadata": {},
   "source": [
    "Agrego columna para tener referencia de que plataforma hace referencia"
   ]
  },
  {
   "cell_type": "code",
   "execution_count": 182,
   "metadata": {},
   "outputs": [
    {
     "name": "stderr",
     "output_type": "stream",
     "text": [
      "C:\\Users\\Clarita\\AppData\\Local\\Temp\\ipykernel_10952\\2085601199.py:1: SettingWithCopyWarning: \n",
      "A value is trying to be set on a copy of a slice from a DataFrame.\n",
      "Try using .loc[row_indexer,col_indexer] = value instead\n",
      "\n",
      "See the caveats in the documentation: https://pandas.pydata.org/pandas-docs/stable/user_guide/indexing.html#returning-a-view-versus-a-copy\n",
      "  edx[\"plataforma\"] = \"edX\"\n"
     ]
    }
   ],
   "source": [
    "edx[\"plataforma\"] = \"edX\""
   ]
  },
  {
   "cell_type": "code",
   "execution_count": 183,
   "metadata": {},
   "outputs": [
    {
     "data": {
      "text/plain": [
       "course_title           0\n",
       "num_subscribers      120\n",
       "level                  0\n",
       "category               0\n",
       "language               0\n",
       "price                  0\n",
       "content_duration       0\n",
       "add_certificate        0\n",
       "price_Certificate      0\n",
       "is_paid                0\n",
       "plataforma             0\n",
       "dtype: int64"
      ]
     },
     "execution_count": 183,
     "metadata": {},
     "output_type": "execute_result"
    }
   ],
   "source": [
    "edx.isnull().sum()"
   ]
  },
  {
   "attachments": {},
   "cell_type": "markdown",
   "metadata": {},
   "source": [
    "Elimino los que no tengan numero de suscriptores porque el enfoque que le voy a dar a este análisis proviene de la cantidad de alumnos por curso"
   ]
  },
  {
   "cell_type": "code",
   "execution_count": 184,
   "metadata": {},
   "outputs": [
    {
     "name": "stderr",
     "output_type": "stream",
     "text": [
      "C:\\Users\\Clarita\\AppData\\Local\\Temp\\ipykernel_10952\\3494020482.py:1: SettingWithCopyWarning: \n",
      "A value is trying to be set on a copy of a slice from a DataFrame\n",
      "\n",
      "See the caveats in the documentation: https://pandas.pydata.org/pandas-docs/stable/user_guide/indexing.html#returning-a-view-versus-a-copy\n",
      "  edx.dropna(subset=\"num_subscribers\", inplace=True)\n"
     ]
    }
   ],
   "source": [
    "edx.dropna(subset=\"num_subscribers\", inplace=True)"
   ]
  },
  {
   "attachments": {},
   "cell_type": "markdown",
   "metadata": {},
   "source": [
    "## Concateno los 3 dataset para empezar con el EDA"
   ]
  },
  {
   "cell_type": "code",
   "execution_count": 185,
   "metadata": {},
   "outputs": [],
   "source": [
    "data = pd.concat([udemy, edx, coursera], join= \"outer\", ignore_index= True)"
   ]
  },
  {
   "cell_type": "code",
   "execution_count": 186,
   "metadata": {},
   "outputs": [],
   "source": [
    "data['Id'] = pd.RangeIndex(start=1, stop=len(data) + 1)"
   ]
  },
  {
   "cell_type": "code",
   "execution_count": 187,
   "metadata": {},
   "outputs": [],
   "source": [
    "data = data.drop(data[data['Id'].isin([1262, 1363, 1146, 1348])].index)"
   ]
  },
  {
   "cell_type": "code",
   "execution_count": 188,
   "metadata": {},
   "outputs": [],
   "source": [
    "data.to_csv(\"cursos.csv\", index= False)"
   ]
  },
  {
   "cell_type": "code",
   "execution_count": 189,
   "metadata": {},
   "outputs": [],
   "source": [
    "udemy.to_csv(\"udemy.csv\", index= False)"
   ]
  },
  {
   "cell_type": "code",
   "execution_count": 190,
   "metadata": {},
   "outputs": [],
   "source": [
    "edx.to_csv(\"edx.csv\", index= False)"
   ]
  },
  {
   "cell_type": "code",
   "execution_count": 191,
   "metadata": {},
   "outputs": [],
   "source": [
    "coursera.to_csv(\"coursera.csv\", index= False)"
   ]
  }
 ],
 "metadata": {
  "kernelspec": {
   "display_name": "Python 3",
   "language": "python",
   "name": "python3"
  },
  "language_info": {
   "codemirror_mode": {
    "name": "ipython",
    "version": 3
   },
   "file_extension": ".py",
   "mimetype": "text/x-python",
   "name": "python",
   "nbconvert_exporter": "python",
   "pygments_lexer": "ipython3",
   "version": "3.11.1"
  },
  "orig_nbformat": 4
 },
 "nbformat": 4,
 "nbformat_minor": 2
}
